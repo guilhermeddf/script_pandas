{
 "cells": [
  {
   "cell_type": "code",
   "execution_count": 20,
   "metadata": {},
   "outputs": [],
   "source": [
    "import pandas as pd\n",
    "import requests\n",
    "import json\n",
    "import subprocess\n",
    "import re\n",
    "import dateutil.parser\n",
    "import os"
   ]
  },
  {
   "cell_type": "code",
   "execution_count": 181,
   "metadata": {},
   "outputs": [
    {
     "data": {
      "text/html": [
       "<div>\n",
       "<style scoped>\n",
       "    .dataframe tbody tr th:only-of-type {\n",
       "        vertical-align: middle;\n",
       "    }\n",
       "\n",
       "    .dataframe tbody tr th {\n",
       "        vertical-align: top;\n",
       "    }\n",
       "\n",
       "    .dataframe thead th {\n",
       "        text-align: right;\n",
       "    }\n",
       "</style>\n",
       "<table border=\"1\" class=\"dataframe\">\n",
       "  <thead>\n",
       "    <tr style=\"text-align: right;\">\n",
       "      <th></th>\n",
       "      <th>sonar_component_key</th>\n",
       "      <th>repo</th>\n",
       "      <th>project</th>\n",
       "      <th>lang</th>\n",
       "    </tr>\n",
       "  </thead>\n",
       "  <tbody>\n",
       "    <tr>\n",
       "      <td>3</td>\n",
       "      <td>org.openstreetmap.atlas:atlas-generator</td>\n",
       "      <td>https://github.com/osmlab/atlas-generator</td>\n",
       "      <td>osmlab/atlas-generator</td>\n",
       "      <td>Java</td>\n",
       "    </tr>\n",
       "    <tr>\n",
       "      <td>4</td>\n",
       "      <td>ressec_hemajoo-foundation</td>\n",
       "      <td>https://github.com/ressec/hemajoo-foundation</td>\n",
       "      <td>ressec/hemajoo-foundation</td>\n",
       "      <td>Java</td>\n",
       "    </tr>\n",
       "    <tr>\n",
       "      <td>5</td>\n",
       "      <td>apache_incubator-tamaya</td>\n",
       "      <td>https://github.com/apache/incubator-tamaya</td>\n",
       "      <td>apache/incubator-tamaya</td>\n",
       "      <td>Java</td>\n",
       "    </tr>\n",
       "    <tr>\n",
       "      <td>8</td>\n",
       "      <td>org.sonarsource.sonarqube:sonarqube</td>\n",
       "      <td>https://github.com/SonarSource/sonarqube</td>\n",
       "      <td>SonarSource/sonarqube</td>\n",
       "      <td>Java</td>\n",
       "    </tr>\n",
       "    <tr>\n",
       "      <td>9</td>\n",
       "      <td>de.gurkenlabs:litiengine</td>\n",
       "      <td>https://github.com/gurkenlabs/litiengine</td>\n",
       "      <td>gurkenlabs/litiengine</td>\n",
       "      <td>Java</td>\n",
       "    </tr>\n",
       "  </tbody>\n",
       "</table>\n",
       "</div>"
      ],
      "text/plain": [
       "                       sonar_component_key  \\\n",
       "3  org.openstreetmap.atlas:atlas-generator   \n",
       "4                ressec_hemajoo-foundation   \n",
       "5                  apache_incubator-tamaya   \n",
       "8      org.sonarsource.sonarqube:sonarqube   \n",
       "9                 de.gurkenlabs:litiengine   \n",
       "\n",
       "                                           repo                    project  \\\n",
       "3     https://github.com/osmlab/atlas-generator     osmlab/atlas-generator   \n",
       "4  https://github.com/ressec/hemajoo-foundation  ressec/hemajoo-foundation   \n",
       "5    https://github.com/apache/incubator-tamaya    apache/incubator-tamaya   \n",
       "8      https://github.com/SonarSource/sonarqube      SonarSource/sonarqube   \n",
       "9      https://github.com/gurkenlabs/litiengine      gurkenlabs/litiengine   \n",
       "\n",
       "   lang  \n",
       "3  Java  \n",
       "4  Java  \n",
       "5  Java  \n",
       "8  Java  \n",
       "9  Java  "
      ]
     },
     "execution_count": 181,
     "metadata": {},
     "output_type": "execute_result"
    }
   ],
   "source": [
    "projects = pd.read_json(r'sonar_projects.json')\n",
    "projects['project'] = projects.repo.str.replace('https://github.com/', '')\n",
    "languages = pd.read_csv('lang.csv')\n",
    "\n",
    "df = pd.merge(projects, languages, on='project')\n",
    "\n",
    "final_df = df.loc[df['lang'] == 'Java']\n",
    "\n",
    "\n",
    "final_df.head()\n",
    "#final_df.to_csv('final_df.csv', index = False)"
   ]
  },
  {
   "cell_type": "code",
   "execution_count": 1,
   "metadata": {},
   "outputs": [],
   "source": [
    "#df_xd = pd.DataFrame(columns=['key', 'date', 'project'])\n",
    "\n",
    "#for projeto in final_df.sonar_component_key:\n",
    "   # print('Analisando o projeto: '+projeto)\n",
    "   # chamada = requests.get('https://sonarcloud.io/api/project_analyses/search?project='+projeto+'&ps=500')\n",
    "   # if(chamada.status_code == 200):  \n",
    "    #    print('O projeto ' + projeto + '   sucesso' )\n",
    "    #    d = json.loads(chamada.text)\n",
    "     #   for ana in d['analyses']:\n",
    "     #       df_xd = df_xd.append({\"key\": ana['key'], \"date\":  ana['date'], \"project\": projeto}, ignore_index=True)\n",
    "  #  else:\n",
    "    #    print('O projeto ' + projeto + '   fracassou!' )\n",
    "    "
   ]
  },
  {
   "cell_type": "code",
   "execution_count": null,
   "metadata": {},
   "outputs": [],
   "source": [
    "#df_xd.head()\n",
    "#df_merge = pd.merge(df_xd, final_df, left_on='project', right_on='sonar_component_key')\n",
    "\n",
    "#df_merge.drop('project_x', axis=1, inplace=True)\n",
    "\n",
    "#df_merge.rename(columns={'repo': 'repo_name', 'date':'analyses_date', 'project_y':'project', 'lang':'language'}, inplace=True)\n",
    "#df_merge.head()\n",
    "#df_merge.to_csv('sera.csv', index = False)\n",
    "\n",
    "#df_merge.groupby('project').aggregate({''})\n",
    "#df_merge.head()\n",
    "#df_merge['project'].median"
   ]
  },
  {
   "cell_type": "code",
   "execution_count": 30,
   "metadata": {},
   "outputs": [],
   "source": [
    "dataframe = pd.read_csv('final_df.csv')\n",
    "dataframe[['project_org','project_name']] = dataframe.project.str.split(pat='/', expand=True)\n",
    "dataframe.to_csv('projetos_tratados.csv', index = False)"
   ]
  },
  {
   "cell_type": "code",
   "execution_count": 3,
   "metadata": {},
   "outputs": [],
   "source": [
    "\n"
   ]
  },
  {
   "cell_type": "code",
   "execution_count": 4,
   "metadata": {},
   "outputs": [
    {
     "data": {
      "text/plain": [
       "'\\nfor index, row in unique.iterrows():\\n    project_folder = target_folder + \\'/\\' + row[\\'project_name\\']\\n    current_folder = project_folder + \\'/current\\'\\n    result = subprocess.run([\"git\", \"clone\", row[\\'repo_name\\'], current_folder])  \\n    print(\\'O projeto {} - {}\\'.format(row[\\'project_name\\'], result.returncode ))\\n'"
      ]
     },
     "execution_count": 4,
     "metadata": {},
     "output_type": "execute_result"
    }
   ],
   "source": [
    "#target_folder = '/home/guilhermeddf/gustavo_projects'\n",
    "#teste = dataframe[['project_name','repo_name']]\n",
    "#unique = teste.drop_duplicates()\n",
    "#unique.head()\n",
    "'''\n",
    "for index, row in unique.iterrows():\n",
    "    project_folder = target_folder + '/' + row['project_name']\n",
    "    current_folder = project_folder + '/current'\n",
    "    result = subprocess.run([\"git\", \"clone\", row['repo_name'], current_folder])  \n",
    "    print('O projeto {} - {}'.format(row['project_name'], result.returncode ))\n",
    "'''"
   ]
  },
  {
   "cell_type": "code",
   "execution_count": null,
   "metadata": {},
   "outputs": [],
   "source": []
  },
  {
   "cell_type": "code",
   "execution_count": 5,
   "metadata": {},
   "outputs": [],
   "source": [
    "#dataframe.head()"
   ]
  },
  {
   "cell_type": "code",
   "execution_count": 6,
   "metadata": {},
   "outputs": [
    {
     "data": {
      "text/plain": [
       "'\\ntarget_folder = \\'/home/guilhermeddf/gustavo_projects\\'\\ntool_path = \\'/home/guilhermeddf/Downloads/iplasma/iPlasma6/tools/iPlasma\\'\\n\\nfor index, row in dataframe.iterrows():\\n   \\n    #declara os caminhos das pastas\\n    project_folder = target_folder + \\'/\\' + row[\\'project_name\\']\\n    current_folder = project_folder + \\'/current\\'\\n    destination_folder = project_folder+\\'/\\'+row[\\'key\\']\\n    print(\\'--------------------------------------------------------\\')\\n    print(\\'Analisando o projeto {}\\'.format(row[\\'project_name\\']))\\n    \\n    #recupera o nome da branch\\n    branch_output = subprocess.run(\\'cd /home/guilhermeddf/gustavo_projects/{}/current && git branch\\'.format(row[\\'project_name\\']), shell=True, stdout=subprocess.PIPE, stderr=subprocess.STDOUT)\\n    output_text = str(branch_output.stdout)   \\n    branch_formated = output_text.split(\\'* \\')[1].split(\\'\\\\\\')[0]\\n    print(\\'Nome da branch: {}\\'.format(branch_formated))\\n    \\n    #copia o current\\n    copy_output = subprocess.run(\\'cp -R {} {}\\'.format(current_folder, destination_folder), shell=True, stdout=subprocess.PIPE, stderr=subprocess.STDOUT)\\n    print(\\'Copiando a pasta current do projeto.\\')\\n    \\n    #declara o comando para fazer o chechout\\n    checkout_command = \"git checkout `git rev-list -1 --before=\"{}\" {}`\".format(row[\\'analyses_date\\'], branch_formated)\\n    \\n    #roda o comando fazendo  o checkout\\n    checkout_output = subprocess.run(\\'cd {} && {}\\'.format(destination_folder, checkout_command), shell=True, stdout=subprocess.PIPE, stderr=subprocess.STDOUT)\\n    print(\\'Fazendo o checkout do projeto.\\')\\n    print(str(checkout_output.stdout)+\\'\\n\\')\\n    \\n    #cria o dir dos resultados\\n    result_folder = \\'/home/guilhermeddf/gustavo_results/{}\\'.format(row[\\'project_name\\'])\\n    a = subprocess.run(\"mkdir -p {}\".format(result_folder), shell=True, stdout=subprocess.PIPE, stderr=subprocess.STDOUT)\\n    print(str(a))\\n    result_file = \\'/{}.txt\\'.format(row[\\'key\\'])\\n    \\n    #roda a analise\\n    analyses_command = \\'./insider.sh {} OverviewPyramid {}\\'.format(destination_folder, result_folder+result_file)\\n    analyses_output = subprocess.run(\\'cd {} && {}\\'.format(tool_path, analyses_command), shell=True, stdout=subprocess.PIPE, stderr=subprocess.STDOUT)\\n    print(\\'Analisando o projeto.\\')\\n    print(str(analyses_output)+\\'\\n\\')\\n    \\n    #apaga a pasta\\n    apaga_output = subprocess.run(\\'rm -R {}\\'.format(destination_folder), shell=True, stdout=subprocess.PIPE, stderr=subprocess.STDOUT)\\n    print(\\'Apagando a pasta da versao do projeto.\\')\\n    \\n    '"
      ]
     },
     "execution_count": 6,
     "metadata": {},
     "output_type": "execute_result"
    }
   ],
   "source": [
    "'''\n",
    "target_folder = '/home/guilhermeddf/gustavo_projects'\n",
    "tool_path = '/home/guilhermeddf/Downloads/iplasma/iPlasma6/tools/iPlasma'\n",
    "\n",
    "for index, row in dataframe.iterrows():\n",
    "   \n",
    "    #declara os caminhos das pastas\n",
    "    project_folder = target_folder + '/' + row['project_name']\n",
    "    current_folder = project_folder + '/current'\n",
    "    destination_folder = project_folder+'/'+row['key']\n",
    "    print('--------------------------------------------------------')\n",
    "    print('Analisando o projeto {}'.format(row['project_name']))\n",
    "    \n",
    "    #recupera o nome da branch\n",
    "    branch_output = subprocess.run('cd /home/guilhermeddf/gustavo_projects/{}/current && git branch'.format(row['project_name']), shell=True, stdout=subprocess.PIPE, stderr=subprocess.STDOUT)\n",
    "    output_text = str(branch_output.stdout)   \n",
    "    branch_formated = output_text.split('* ')[1].split('\\\\')[0]\n",
    "    print('Nome da branch: {}'.format(branch_formated))\n",
    "    \n",
    "    #copia o current\n",
    "    copy_output = subprocess.run('cp -R {} {}'.format(current_folder, destination_folder), shell=True, stdout=subprocess.PIPE, stderr=subprocess.STDOUT)\n",
    "    print('Copiando a pasta current do projeto.')\n",
    "    \n",
    "    #declara o comando para fazer o chechout\n",
    "    checkout_command = \"git checkout `git rev-list -1 --before=\\\"{}\\\" {}`\".format(row['analyses_date'], branch_formated)\n",
    "    \n",
    "    #roda o comando fazendo  o checkout\n",
    "    checkout_output = subprocess.run('cd {} && {}'.format(destination_folder, checkout_command), shell=True, stdout=subprocess.PIPE, stderr=subprocess.STDOUT)\n",
    "    print('Fazendo o checkout do projeto.')\n",
    "    print(str(checkout_output.stdout)+'\\n')\n",
    "    \n",
    "    #cria o dir dos resultados\n",
    "    result_folder = '/home/guilhermeddf/gustavo_results/{}'.format(row['project_name'])\n",
    "    a = subprocess.run(\"mkdir -p {}\".format(result_folder), shell=True, stdout=subprocess.PIPE, stderr=subprocess.STDOUT)\n",
    "    print(str(a))\n",
    "    result_file = '/{}.txt'.format(row['key'])\n",
    "    \n",
    "    #roda a analise\n",
    "    analyses_command = './insider.sh {} OverviewPyramid {}'.format(destination_folder, result_folder+result_file)\n",
    "    analyses_output = subprocess.run('cd {} && {}'.format(tool_path, analyses_command), shell=True, stdout=subprocess.PIPE, stderr=subprocess.STDOUT)\n",
    "    print('Analisando o projeto.')\n",
    "    print(str(analyses_output)+'\\n')\n",
    "    \n",
    "    #apaga a pasta\n",
    "    apaga_output = subprocess.run('rm -R {}'.format(destination_folder), shell=True, stdout=subprocess.PIPE, stderr=subprocess.STDOUT)\n",
    "    print('Apagando a pasta da versao do projeto.')\n",
    "    \n",
    "    '''\n",
    "    "
   ]
  },
  {
   "cell_type": "code",
   "execution_count": 24,
   "metadata": {},
   "outputs": [
    {
     "data": {
      "text/html": [
       "<div>\n",
       "<style scoped>\n",
       "    .dataframe tbody tr th:only-of-type {\n",
       "        vertical-align: middle;\n",
       "    }\n",
       "\n",
       "    .dataframe tbody tr th {\n",
       "        vertical-align: top;\n",
       "    }\n",
       "\n",
       "    .dataframe thead th {\n",
       "        text-align: right;\n",
       "    }\n",
       "</style>\n",
       "<table border=\"1\" class=\"dataframe\">\n",
       "  <thead>\n",
       "    <tr style=\"text-align: right;\">\n",
       "      <th></th>\n",
       "      <th>key</th>\n",
       "      <th>analyses_date</th>\n",
       "      <th>sonar_component_key</th>\n",
       "      <th>repo_name</th>\n",
       "      <th>project</th>\n",
       "      <th>language</th>\n",
       "      <th>project_org</th>\n",
       "      <th>project_name</th>\n",
       "    </tr>\n",
       "  </thead>\n",
       "  <tbody>\n",
       "    <tr>\n",
       "      <td>count</td>\n",
       "      <td>2717</td>\n",
       "      <td>2717</td>\n",
       "      <td>2717</td>\n",
       "      <td>2717</td>\n",
       "      <td>2717</td>\n",
       "      <td>2717</td>\n",
       "      <td>2717</td>\n",
       "      <td>2717</td>\n",
       "    </tr>\n",
       "    <tr>\n",
       "      <td>unique</td>\n",
       "      <td>2717</td>\n",
       "      <td>2715</td>\n",
       "      <td>96</td>\n",
       "      <td>96</td>\n",
       "      <td>96</td>\n",
       "      <td>1</td>\n",
       "      <td>66</td>\n",
       "      <td>96</td>\n",
       "    </tr>\n",
       "    <tr>\n",
       "      <td>top</td>\n",
       "      <td>AWcXa5jvd6oxh3R4XiD5</td>\n",
       "      <td>2020-01-02T15:16:01+0100</td>\n",
       "      <td>PantheonTechnologies_lighty-core</td>\n",
       "      <td>https://github.com/PantheonTechnologies/lighty...</td>\n",
       "      <td>PantheonTechnologies/lighty-core</td>\n",
       "      <td>Java</td>\n",
       "      <td>hmcts</td>\n",
       "      <td>lighty-core</td>\n",
       "    </tr>\n",
       "    <tr>\n",
       "      <td>freq</td>\n",
       "      <td>1</td>\n",
       "      <td>2</td>\n",
       "      <td>139</td>\n",
       "      <td>139</td>\n",
       "      <td>139</td>\n",
       "      <td>2717</td>\n",
       "      <td>309</td>\n",
       "      <td>139</td>\n",
       "    </tr>\n",
       "  </tbody>\n",
       "</table>\n",
       "</div>"
      ],
      "text/plain": [
       "                         key             analyses_date  \\\n",
       "count                   2717                      2717   \n",
       "unique                  2717                      2715   \n",
       "top     AWcXa5jvd6oxh3R4XiD5  2020-01-02T15:16:01+0100   \n",
       "freq                       1                         2   \n",
       "\n",
       "                     sonar_component_key  \\\n",
       "count                               2717   \n",
       "unique                                96   \n",
       "top     PantheonTechnologies_lighty-core   \n",
       "freq                                 139   \n",
       "\n",
       "                                                repo_name  \\\n",
       "count                                                2717   \n",
       "unique                                                 96   \n",
       "top     https://github.com/PantheonTechnologies/lighty...   \n",
       "freq                                                  139   \n",
       "\n",
       "                                 project language project_org project_name  \n",
       "count                               2717     2717        2717         2717  \n",
       "unique                                96        1          66           96  \n",
       "top     PantheonTechnologies/lighty-core     Java       hmcts  lighty-core  \n",
       "freq                                 139     2717         309          139  "
      ]
     },
     "execution_count": 24,
     "metadata": {},
     "output_type": "execute_result"
    }
   ],
   "source": [
    "dataframe.describe()"
   ]
  },
  {
   "cell_type": "code",
   "execution_count": 19,
   "metadata": {},
   "outputs": [
    {
     "data": {
      "text/plain": [
       "lighty-core              139\n",
       "dotwebstack-framework    136\n",
       "iextrading4j             122\n",
       "atlas                    116\n",
       "webauthn4j               109\n",
       "                        ... \n",
       "botgether                  4\n",
       "demo-spring-testing        4\n",
       "openfasttrace              4\n",
       "hemajoo-foundation         3\n",
       "GalaBank                   3\n",
       "Name: project_name, Length: 96, dtype: int64"
      ]
     },
     "execution_count": 19,
     "metadata": {},
     "output_type": "execute_result"
    }
   ],
   "source": [
    "dataframe['project_name'].value_counts()"
   ]
  },
  {
   "cell_type": "code",
   "execution_count": null,
   "metadata": {},
   "outputs": [],
   "source": [
    "\n"
   ]
  },
  {
   "cell_type": "code",
   "execution_count": null,
   "metadata": {},
   "outputs": [],
   "source": []
  }
 ],
 "metadata": {
  "kernelspec": {
   "display_name": "Python 3",
   "language": "python",
   "name": "python3"
  },
  "language_info": {
   "codemirror_mode": {
    "name": "ipython",
    "version": 3
   },
   "file_extension": ".py",
   "mimetype": "text/x-python",
   "name": "python",
   "nbconvert_exporter": "python",
   "pygments_lexer": "ipython3",
   "version": "3.7.4"
  }
 },
 "nbformat": 4,
 "nbformat_minor": 2
}
