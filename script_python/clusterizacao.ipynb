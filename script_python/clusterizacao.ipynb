{
 "cells": [
  {
   "cell_type": "code",
   "execution_count": 2,
   "metadata": {},
   "outputs": [],
   "source": [
    "import pandas as pd"
   ]
  },
  {
   "cell_type": "code",
   "execution_count": 4,
   "metadata": {},
   "outputs": [
    {
     "data": {
      "text/html": [
       "<div>\n",
       "<style scoped>\n",
       "    .dataframe tbody tr th:only-of-type {\n",
       "        vertical-align: middle;\n",
       "    }\n",
       "\n",
       "    .dataframe tbody tr th {\n",
       "        vertical-align: top;\n",
       "    }\n",
       "\n",
       "    .dataframe thead th {\n",
       "        text-align: right;\n",
       "    }\n",
       "</style>\n",
       "<table border=\"1\" class=\"dataframe\">\n",
       "  <thead>\n",
       "    <tr style=\"text-align: right;\">\n",
       "      <th></th>\n",
       "      <th>version</th>\n",
       "      <th>metric</th>\n",
       "      <th>date</th>\n",
       "      <th>value</th>\n",
       "      <th>normalized_value</th>\n",
       "      <th>project_name</th>\n",
       "    </tr>\n",
       "  </thead>\n",
       "  <tbody>\n",
       "    <tr>\n",
       "      <td>0</td>\n",
       "      <td>1</td>\n",
       "      <td>bugs</td>\n",
       "      <td>2019-07-03T14:39:33-0300</td>\n",
       "      <td>911.0</td>\n",
       "      <td>0.006785</td>\n",
       "      <td>aframe</td>\n",
       "    </tr>\n",
       "    <tr>\n",
       "      <td>1</td>\n",
       "      <td>2</td>\n",
       "      <td>bugs</td>\n",
       "      <td>2019-07-03T14:42:07-0300</td>\n",
       "      <td>911.0</td>\n",
       "      <td>0.006785</td>\n",
       "      <td>aframe</td>\n",
       "    </tr>\n",
       "    <tr>\n",
       "      <td>2</td>\n",
       "      <td>3</td>\n",
       "      <td>bugs</td>\n",
       "      <td>2019-07-03T14:44:41-0300</td>\n",
       "      <td>911.0</td>\n",
       "      <td>0.006785</td>\n",
       "      <td>aframe</td>\n",
       "    </tr>\n",
       "    <tr>\n",
       "      <td>3</td>\n",
       "      <td>4</td>\n",
       "      <td>bugs</td>\n",
       "      <td>2019-07-03T14:47:20-0300</td>\n",
       "      <td>911.0</td>\n",
       "      <td>0.006785</td>\n",
       "      <td>aframe</td>\n",
       "    </tr>\n",
       "    <tr>\n",
       "      <td>4</td>\n",
       "      <td>5</td>\n",
       "      <td>bugs</td>\n",
       "      <td>2019-07-03T14:50:01-0300</td>\n",
       "      <td>911.0</td>\n",
       "      <td>0.006785</td>\n",
       "      <td>aframe</td>\n",
       "    </tr>\n",
       "  </tbody>\n",
       "</table>\n",
       "</div>"
      ],
      "text/plain": [
       "   version metric                      date  value  normalized_value  \\\n",
       "0        1   bugs  2019-07-03T14:39:33-0300  911.0          0.006785   \n",
       "1        2   bugs  2019-07-03T14:42:07-0300  911.0          0.006785   \n",
       "2        3   bugs  2019-07-03T14:44:41-0300  911.0          0.006785   \n",
       "3        4   bugs  2019-07-03T14:47:20-0300  911.0          0.006785   \n",
       "4        5   bugs  2019-07-03T14:50:01-0300  911.0          0.006785   \n",
       "\n",
       "  project_name  \n",
       "0       aframe  \n",
       "1       aframe  \n",
       "2       aframe  \n",
       "3       aframe  \n",
       "4       aframe  "
      ]
     },
     "execution_count": 4,
     "metadata": {},
     "output_type": "execute_result"
    }
   ],
   "source": [
    "df = pd.read_csv('/home/guilhermeddf/RQ1_and_RQ2.csv')\n",
    "df.head()"
   ]
  },
  {
   "cell_type": "code",
   "execution_count": 36,
   "metadata": {},
   "outputs": [],
   "source": [
    "def isCI(row):\n",
    "    if row <=48:\n",
    "        return 'NOCI'\n",
    "    elif row <=96:\n",
    "        return 'EARLY_CI'\n",
    "    else:\n",
    "        return 'LATE_CI'\n",
    "\n",
    "df['CI'] = df['version'].apply(isCI)\n",
    "df.to_csv('modificado.csv', index=False)"
   ]
  },
  {
   "cell_type": "code",
   "execution_count": null,
   "metadata": {},
   "outputs": [],
   "source": []
  },
  {
   "cell_type": "code",
   "execution_count": null,
   "metadata": {},
   "outputs": [],
   "source": []
  },
  {
   "cell_type": "code",
   "execution_count": null,
   "metadata": {},
   "outputs": [],
   "source": []
  },
  {
   "cell_type": "code",
   "execution_count": null,
   "metadata": {},
   "outputs": [],
   "source": []
  }
 ],
 "metadata": {
  "kernelspec": {
   "display_name": "Python 3",
   "language": "python",
   "name": "python3"
  },
  "language_info": {
   "codemirror_mode": {
    "name": "ipython",
    "version": 3
   },
   "file_extension": ".py",
   "mimetype": "text/x-python",
   "name": "python",
   "nbconvert_exporter": "python",
   "pygments_lexer": "ipython3",
   "version": "3.7.4"
  }
 },
 "nbformat": 4,
 "nbformat_minor": 2
}
